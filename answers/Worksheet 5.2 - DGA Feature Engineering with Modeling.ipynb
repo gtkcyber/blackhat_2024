{
 "cells": [
  {
   "cell_type": "code",
   "execution_count": null,
   "id": "9e46d6ba-26dc-4e1e-b339-8413332f8fe3",
   "metadata": {},
   "outputs": [],
   "source": []
  },
  {
   "cell_type": "markdown",
   "id": "c1a20aa9-c54e-4ad3-8cbb-1a351dd22d9f",
   "metadata": {},
   "source": [
    "### Making a Prediction\n",
    "The code below demonstrates how you will go from an unknown raw domain to predicting whether it is DGA or not.  The key thing is that you have to regenerate all the features, and create a 1 row dataframe of all your features which is then passed to the model. "
   ]
  },
  {
   "cell_type": "code",
   "execution_count": null,
   "id": "bc2e34a7-704f-47eb-bfc4-071fc4bd922b",
   "metadata": {},
   "outputs": [],
   "source": [
    "def is_dga(domain, clf, d):\n",
    "    # Function that takes new domain string, trained model 'clf' as input and\n",
    "    # dictionary d of most common english words\n",
    "    # returns prediction\n",
    "    \n",
    "    domain_features = np.empty([1,6])\n",
    "    # order of features is ['length', 'digits', 'entropy', 'vowel-cons', firstDigitIndex, 'ngrams']\n",
    "    domain_features[0,0] = len(domain)\n",
    "    pattern = re.compile('([0-9])')\n",
    "    domain_features[0,1] = len(re.findall(pattern, domain))\n",
    "    domain_features[0,2] = H_entropy(domain)\n",
    "    domain_features[0,3] = vowel_consonant_ratio(domain)\n",
    "    domain_features[0,4] = firstDigitIndex(domain)\n",
    "    domain_features[0,5] = average_ngram_feature([ngram_feature(domain, d, 1), \n",
    "                                                  ngram_feature(domain, d, 2), \n",
    "                                                  ngram_feature(domain, d, 3)])\n",
    "    \n",
    "    pred = clf.predict(domain_features)\n",
    "    return pred[0]\n",
    "\n",
    "\n",
    "print('Predictions of domain %s is [0 means legit and 1 dga]: ' %('spardeingeld'), is_dga('spardeingeld', clf, d))  \n",
    "print('Predictions of domain %s is [0 means legit and 1 dga]: ' %('google'), is_dga('google', clf, d)) \n",
    "print('Predictions of domain %s is [0 means legit and 1 dga]: ' %('1vxznov16031kjxneqjk1rtofi6'), is_dga('1vxznov16031kjxneqjk1rtofi6', clf, d)) \n",
    "print('Predictions of domain %s is [0 means legit and 1 dga]: ' %('lthmqglxwmrwex'), is_dga('lthmqglxwmrwex', clf, d)) \n"
   ]
  },
  {
   "cell_type": "code",
   "execution_count": null,
   "id": "fe718c8f-6e30-4659-9146-8c6afc8650e1",
   "metadata": {},
   "outputs": [],
   "source": [
    "is_dga('adfajdskflajlkdsfjaksdjf;lakjsdfkajdsf8989dsf32.com', clf, d)"
   ]
  },
  {
   "cell_type": "code",
   "execution_count": null,
   "id": "4c4a2617-0abc-4237-9ca0-7237cb2ae381",
   "metadata": {},
   "outputs": [],
   "source": []
  }
 ],
 "metadata": {
  "kernelspec": {
   "display_name": "Python 3 (ipykernel)",
   "language": "python",
   "name": "python3"
  },
  "language_info": {
   "codemirror_mode": {
    "name": "ipython",
    "version": 3
   },
   "file_extension": ".py",
   "mimetype": "text/x-python",
   "name": "python",
   "nbconvert_exporter": "python",
   "pygments_lexer": "ipython3",
   "version": "3.11.8"
  },
  "widgets": {
   "application/vnd.jupyter.widget-state+json": {
    "state": {},
    "version_major": 2,
    "version_minor": 0
   }
  }
 },
 "nbformat": 4,
 "nbformat_minor": 5
}
