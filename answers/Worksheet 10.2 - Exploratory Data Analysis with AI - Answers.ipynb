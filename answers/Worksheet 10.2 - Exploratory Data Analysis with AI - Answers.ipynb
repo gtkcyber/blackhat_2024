{
 "cells": [
  {
   "cell_type": "markdown",
   "id": "f82d832a",
   "metadata": {},
   "source": [
    "<img src=\"../img/GTK_Logo_Social Icon.jpg\" width=175 align=\"right\" />\n",
    "\n",
    "# Worksheet 10.2 - Exploratory Data Analysis (EDA) With AI - Answers\n",
    "\n",
    "In this brief lab, we're going to try some of the exploratory data analysis and feature engineering techniques we learned using AI.  As with the previous example, you will need an API key from OpenAI for these exercises.\n",
    "\n",
    "We will be using Pandas and Pandas-AI (https://pandas-ai.readthedocs.io/en/latest/) for this lab. \n",
    "\n",
    "First, import the modules."
   ]
  },
  {
   "cell_type": "code",
   "execution_count": 48,
   "id": "a72d60b5",
   "metadata": {
    "ExecuteTime": {
     "end_time": "2023-07-31T03:22:54.823002Z",
     "start_time": "2023-07-31T03:22:54.816139Z"
    }
   },
   "outputs": [],
   "source": [
    "import pandas as pd\n",
    "import matplotlib.pyplot as plt\n",
    "from pandasai import PandasAI\n",
    "from pandasai.llm.openai import OpenAI\n",
    "llm = OpenAI(api_token=\"<YOUR TOKEN>\")\n",
    "pandas_ai = PandasAI(llm)\n",
    "%matplotlib inline  "
   ]
  },
  {
   "cell_type": "markdown",
   "id": "884b4f03",
   "metadata": {},
   "source": [
    "Next, we're going to read in the `dailybots.csv` file which we used in the DataFrame lab."
   ]
  },
  {
   "cell_type": "code",
   "execution_count": 34,
   "id": "4d49aa9e",
   "metadata": {
    "ExecuteTime": {
     "end_time": "2023-07-31T01:30:00.678431Z",
     "start_time": "2023-07-31T01:30:00.663254Z"
    }
   },
   "outputs": [
    {
     "name": "stdout",
     "output_type": "stream",
     "text": [
      "<class 'pandas.core.frame.DataFrame'>\n",
      "RangeIndex: 4969 entries, 0 to 4968\n",
      "Data columns (total 5 columns):\n",
      " #   Column    Non-Null Count  Dtype         \n",
      "---  ------    --------------  -----         \n",
      " 0   date      4969 non-null   datetime64[ns]\n",
      " 1   botfam    4969 non-null   object        \n",
      " 2   industry  4969 non-null   object        \n",
      " 3   hosts     4969 non-null   int64         \n",
      " 4   orgs      4969 non-null   int64         \n",
      "dtypes: datetime64[ns](1), int64(2), object(2)\n",
      "memory usage: 194.2+ KB\n",
      "None\n"
     ]
    }
   ],
   "source": [
    "df = pd.read_csv('../data/dailybots.csv')\n",
    "df['date'] = pd.to_datetime(df['date'])\n",
    "print(df.info())"
   ]
  },
  {
   "cell_type": "markdown",
   "id": "c01f4128",
   "metadata": {},
   "source": [
    "#  Part One:  Which Five Bot Families Affected the Government the Most?\n",
    "For part one, use PandasAI to answer the question: Which 5 bot families affected the government the most?\n",
    "\n",
    "The syntax is:\n",
    "\n",
    "```python\n",
    "pandas_ai(<dataframe>, <question>)\n",
    "```\n"
   ]
  },
  {
   "cell_type": "code",
   "execution_count": 36,
   "id": "a9c0f057",
   "metadata": {
    "ExecuteTime": {
     "end_time": "2023-07-31T01:32:22.999243Z",
     "start_time": "2023-07-31T01:32:20.043467Z"
    }
   },
   "outputs": [
    {
     "data": {
      "text/plain": [
       "botfam\n",
       "ConfickerAB    28818\n",
       "Necurs         12425\n",
       "Sality          7466\n",
       "Bedep           6183\n",
       "Ramnit          4484\n",
       "Name: hosts, dtype: int64"
      ]
     },
     "execution_count": 36,
     "metadata": {},
     "output_type": "execute_result"
    }
   ],
   "source": [
    "pandas_ai(df, \"Which 5 Bot Families Affected the Government the Most?\")"
   ]
  },
  {
   "cell_type": "markdown",
   "id": "9cfd90a5",
   "metadata": {
    "ExecuteTime": {
     "end_time": "2023-07-30T17:01:08.172342Z",
     "start_time": "2023-07-30T17:01:01.341199Z"
    }
   },
   "source": [
    "What answer did you get?  Is this correct?  How do you know?\n",
    "\n",
    "You can verify your answer by running:\n",
    "\n",
    "```python\n",
    "print(pandas_ai.last_code_executed)\n",
    "```\n",
    "\n",
    "You can also view the prompt used to generate this data:\n",
    "```python\n",
    "print(pandas_ai.last_prompt)\n",
    "```\n",
    "\n",
    "Give it a try."
   ]
  },
  {
   "cell_type": "code",
   "execution_count": 38,
   "id": "7664ecad",
   "metadata": {
    "ExecuteTime": {
     "end_time": "2023-07-31T01:42:22.007579Z",
     "start_time": "2023-07-31T01:42:22.004068Z"
    }
   },
   "outputs": [
    {
     "name": "stdout",
     "output_type": "stream",
     "text": [
      "df_government = df[df['industry'] == 'Government/Politics']\n",
      "top_5_botfam = df_government.groupby('botfam')['hosts'].sum().nlargest(5)\n",
      "top_5_botfam\n"
     ]
    }
   ],
   "source": [
    "print(pandas_ai.last_code_executed)"
   ]
  },
  {
   "cell_type": "code",
   "execution_count": 39,
   "id": "8f80519b",
   "metadata": {
    "ExecuteTime": {
     "end_time": "2023-07-31T01:42:29.646722Z",
     "start_time": "2023-07-31T01:42:29.643188Z"
    }
   },
   "outputs": [
    {
     "name": "stdout",
     "output_type": "stream",
     "text": [
      "\n",
      "Today is 2023-07-30.\n",
      "You are provided with a pandas dataframe (df) with 4969 rows and 5 columns.\n",
      "This is the metadata of the dataframe:\n",
      "        date botfam             industry  hosts  orgs\n",
      "0 2016-06-01  Bedep            Education    430    17\n",
      "1 2016-06-01  Bedep  Healthcare/Wellness    184    19\n",
      "2 2016-06-01  Bedep              Finance     42    19\n",
      "3 2016-06-01  Bedep        Manufacturing    387    18\n",
      "4 2016-06-01  Bedep  Government/Politics     42    18.\n",
      "\n",
      "When asked about the data, your response should include a python code that describes the dataframe `df`.\n",
      "Using the provided dataframe, df, return the python code and make sure to prefix the requested python code with <startCode> exactly and suffix the code with <endCode> exactly to get the answer to the following question:\n",
      "Which 5 Bot Families Affected the Government the Most?\n"
     ]
    }
   ],
   "source": [
    "print(pandas_ai.last_prompt)"
   ]
  },
  {
   "cell_type": "markdown",
   "id": "3e842b8e",
   "metadata": {},
   "source": [
    "## Part Two:  Visualization\n",
    "For this example, create a grouped bar chart which compares the number of hosts and organizations, grouped by bot family.\n",
    "\n",
    "Note:  We're re-reading the CSV file here because the AI didn't seem to be able to figure out how to deal with the datetime column."
   ]
  },
  {
   "cell_type": "code",
   "execution_count": 63,
   "id": "4dc5afb8",
   "metadata": {
    "ExecuteTime": {
     "end_time": "2023-07-31T03:35:33.678357Z",
     "start_time": "2023-07-31T03:35:27.627703Z"
    }
   },
   "outputs": [
    {
     "data": {
      "image/png": "[encoded data removed]",
      "text/plain": [
       "<Figure size 640x480 with 1 Axes>"
      ]
     },
     "metadata": {},
     "output_type": "display_data"
    }
   ],
   "source": [
    "df = pd.read_csv('../data/dailybots.csv')\n",
    "pandas_ai(df, \"Create a grouped bar chart comparing the number of hosts and orgs, broken down by botfam.\")"
   ]
  },
  {
   "cell_type": "markdown",
   "id": "c8fb4520",
   "metadata": {},
   "source": [
    "## Part Three:  Feature Engineering\n",
    "In this final example we will read in the data from one of the DGA files we used and we're going to extract features from it. "
   ]
  },
  {
   "cell_type": "code",
   "execution_count": 66,
   "id": "a1812adf",
   "metadata": {
    "ExecuteTime": {
     "end_time": "2023-07-31T03:39:10.396180Z",
     "start_time": "2023-07-31T03:39:10.389226Z"
    }
   },
   "outputs": [],
   "source": [
    "dga_df = pd.read_csv('../data/dga_data_small.csv')"
   ]
  },
  {
   "cell_type": "code",
   "execution_count": 67,
   "id": "b9eb56c7",
   "metadata": {
    "ExecuteTime": {
     "end_time": "2023-07-31T03:39:11.059951Z",
     "start_time": "2023-07-31T03:39:11.023410Z"
    }
   },
   "outputs": [
    {
     "data": {
      "text/html": [
       "<div>\n",
       "<style scoped>\n",
       "    .dataframe tbody tr th:only-of-type {\n",
       "        vertical-align: middle;\n",
       "    }\n",
       "\n",
       "    .dataframe tbody tr th {\n",
       "        vertical-align: top;\n",
       "    }\n",
       "\n",
       "    .dataframe thead th {\n",
       "        text-align: right;\n",
       "    }\n",
       "</style>\n",
       "<table border=\"1\" class=\"dataframe\">\n",
       "  <thead>\n",
       "    <tr style=\"text-align: right;\">\n",
       "      <th></th>\n",
       "      <th>isDGA</th>\n",
       "      <th>domain</th>\n",
       "      <th>host</th>\n",
       "      <th>subclass</th>\n",
       "      <th>domain_length</th>\n",
       "      <th>num_digits</th>\n",
       "      <th>num_special_chars</th>\n",
       "    </tr>\n",
       "  </thead>\n",
       "  <tbody>\n",
       "    <tr>\n",
       "      <th>0</th>\n",
       "      <td>dga</td>\n",
       "      <td>tyopcrkqgxcfm</td>\n",
       "      <td>tyopcrkqgxcfm.co.uk</td>\n",
       "      <td>cryptolocker</td>\n",
       "      <td>13</td>\n",
       "      <td>0</td>\n",
       "      <td>0</td>\n",
       "    </tr>\n",
       "    <tr>\n",
       "      <th>1</th>\n",
       "      <td>dga</td>\n",
       "      <td>72j5rn1l9mzleo6203v1ogenfl</td>\n",
       "      <td>72j5rn1l9mzleo6203v1ogenfl.org</td>\n",
       "      <td>gameoverdga</td>\n",
       "      <td>26</td>\n",
       "      <td>10</td>\n",
       "      <td>0</td>\n",
       "    </tr>\n",
       "    <tr>\n",
       "      <th>2</th>\n",
       "      <td>dga</td>\n",
       "      <td>thenrest</td>\n",
       "      <td>thenrest.net</td>\n",
       "      <td>nivdort</td>\n",
       "      <td>8</td>\n",
       "      <td>0</td>\n",
       "      <td>0</td>\n",
       "    </tr>\n",
       "    <tr>\n",
       "      <th>3</th>\n",
       "      <td>dga</td>\n",
       "      <td>15ihbm71utcnfa8dk1mmgoobl9</td>\n",
       "      <td>15ihbm71utcnfa8dk1mmgoobl9.org</td>\n",
       "      <td>gameoverdga</td>\n",
       "      <td>26</td>\n",
       "      <td>7</td>\n",
       "      <td>0</td>\n",
       "    </tr>\n",
       "    <tr>\n",
       "      <th>4</th>\n",
       "      <td>dga</td>\n",
       "      <td>x1d6ou7e7kofk60ayhq74x7e</td>\n",
       "      <td>x1d6ou7e7kofk60ayhq74x7e.net</td>\n",
       "      <td>gameoverdga</td>\n",
       "      <td>24</td>\n",
       "      <td>9</td>\n",
       "      <td>0</td>\n",
       "    </tr>\n",
       "    <tr>\n",
       "      <th>...</th>\n",
       "      <td>...</td>\n",
       "      <td>...</td>\n",
       "      <td>...</td>\n",
       "      <td>...</td>\n",
       "      <td>...</td>\n",
       "      <td>...</td>\n",
       "      <td>...</td>\n",
       "    </tr>\n",
       "    <tr>\n",
       "      <th>1995</th>\n",
       "      <td>legit</td>\n",
       "      <td>88ha</td>\n",
       "      <td>88ha.com</td>\n",
       "      <td>alexa</td>\n",
       "      <td>4</td>\n",
       "      <td>2</td>\n",
       "      <td>0</td>\n",
       "    </tr>\n",
       "    <tr>\n",
       "      <th>1996</th>\n",
       "      <td>legit</td>\n",
       "      <td>grooby</td>\n",
       "      <td>grooby.com</td>\n",
       "      <td>alexa</td>\n",
       "      <td>6</td>\n",
       "      <td>0</td>\n",
       "      <td>0</td>\n",
       "    </tr>\n",
       "    <tr>\n",
       "      <th>1997</th>\n",
       "      <td>legit</td>\n",
       "      <td>51zzl</td>\n",
       "      <td>51zzl.com</td>\n",
       "      <td>alexa</td>\n",
       "      <td>5</td>\n",
       "      <td>2</td>\n",
       "      <td>0</td>\n",
       "    </tr>\n",
       "    <tr>\n",
       "      <th>1998</th>\n",
       "      <td>legit</td>\n",
       "      <td>index-education</td>\n",
       "      <td>index-education.com</td>\n",
       "      <td>legit</td>\n",
       "      <td>15</td>\n",
       "      <td>0</td>\n",
       "      <td>1</td>\n",
       "    </tr>\n",
       "    <tr>\n",
       "      <th>1999</th>\n",
       "      <td>legit</td>\n",
       "      <td>fastpics</td>\n",
       "      <td>fastpics.us</td>\n",
       "      <td>legit</td>\n",
       "      <td>8</td>\n",
       "      <td>0</td>\n",
       "      <td>0</td>\n",
       "    </tr>\n",
       "  </tbody>\n",
       "</table>\n",
       "<p>2000 rows × 7 columns</p>\n",
       "</div>"
      ],
      "text/plain": [
       "      isDGA                      domain  ... num_digits num_special_chars\n",
       "0       dga               tyopcrkqgxcfm  ...          0                 0\n",
       "1       dga  72j5rn1l9mzleo6203v1ogenfl  ...         10                 0\n",
       "2       dga                    thenrest  ...          0                 0\n",
       "3       dga  15ihbm71utcnfa8dk1mmgoobl9  ...          7                 0\n",
       "4       dga    x1d6ou7e7kofk60ayhq74x7e  ...          9                 0\n",
       "...     ...                         ...  ...        ...               ...\n",
       "1995  legit                        88ha  ...          2                 0\n",
       "1996  legit                      grooby  ...          0                 0\n",
       "1997  legit                       51zzl  ...          2                 0\n",
       "1998  legit             index-education  ...          0                 1\n",
       "1999  legit                    fastpics  ...          0                 0\n",
       "\n",
       "[2000 rows x 7 columns]"
      ]
     },
     "execution_count": 67,
     "metadata": {},
     "output_type": "execute_result"
    }
   ],
   "source": [
    "pandas_ai.generate_features(dga_df)"
   ]
  },
  {
   "cell_type": "markdown",
   "id": "e55e1d79",
   "metadata": {},
   "source": [
    "How did it do?  Did it generate any interesting features?"
   ]
  }
 ],
 "metadata": {
  "kernelspec": {
   "display_name": "Python 3 (ipykernel)",
   "language": "python",
   "name": "python3"
  },
  "language_info": {
   "codemirror_mode": {
    "name": "ipython",
    "version": 3
   },
   "file_extension": ".py",
   "mimetype": "text/x-python",
   "name": "python",
   "nbconvert_exporter": "python",
   "pygments_lexer": "ipython3",
   "version": "3.11.8"
  },
  "varInspector": {
   "cols": {
    "lenName": 16,
    "lenType": 16,
    "lenVar": 40
   },
   "kernels_config": {
    "python": {
     "delete_cmd_postfix": "",
     "delete_cmd_prefix": "del ",
     "library": "var_list.py",
     "varRefreshCmd": "print(var_dic_list())"
    },
    "r": {
     "delete_cmd_postfix": ") ",
     "delete_cmd_prefix": "rm(",
     "library": "var_list.r",
     "varRefreshCmd": "cat(var_dic_list()) "
    }
   },
   "types_to_exclude": [
    "module",
    "function",
    "builtin_function_or_method",
    "instance",
    "_Feature"
   ],
   "window_display": false
  },
  "widgets": {
   "application/vnd.jupyter.widget-state+json": {
    "state": {},
    "version_major": 2,
    "version_minor": 0
   }
  }
 },
 "nbformat": 4,
 "nbformat_minor": 5
}
