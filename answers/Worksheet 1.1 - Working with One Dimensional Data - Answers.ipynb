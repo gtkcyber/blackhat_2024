{
 "cells": [
  {
   "cell_type": "markdown",
   "metadata": {},
   "source": [
    "<img src=\"../img/GTK_Logo_Social Icon.jpg\" width=175 align=\"right\" />\n",
    "\n",
    "\n",
    "# Worksheet 1.1:  Working with One Dimensional Data - Answers\n",
    "This worksheet covers concepts covered in the first half of Module 1 - Exploratory Data Analysis in One Dimension.  It should take no more than 20-30 minutes to complete.  Please raise your hand if you get stuck.  \n",
    "\n",
    "There are many ways to accomplish the tasks that you are presented with, however you will find that by using the techniques covered in class, the exercises should be relatively simple. \n",
    "\n",
    "## Import the Libraries\n",
    "For this exercise, we will be using:\n",
    "* Pandas (http://pandas.pydata.org/pandas-docs/stable/)\n",
    "* Numpy (https://docs.scipy.org/doc/numpy/reference/)\n",
    "* Matplotlib (http://matplotlib.org/api/pyplot_api.html)\n"
   ]
  },
  {
   "cell_type": "code",
   "execution_count": 1,
   "metadata": {
    "ExecuteTime": {
     "end_time": "2023-07-03T20:53:58.498952Z",
     "start_time": "2023-07-03T20:53:57.751358Z"
    }
   },
   "outputs": [
    {
     "ename": "ModuleNotFoundError",
     "evalue": "No module named 'matplotlib'",
     "output_type": "error",
     "traceback": [
      "\u001b[0;31m---------------------------------------------------------------------------\u001b[0m",
      "\u001b[0;31mModuleNotFoundError\u001b[0m                       Traceback (most recent call last)",
      "Cell \u001b[0;32mIn[1], line 3\u001b[0m\n\u001b[1;32m      1\u001b[0m \u001b[38;5;28;01mimport\u001b[39;00m \u001b[38;5;21;01mpandas\u001b[39;00m \u001b[38;5;28;01mas\u001b[39;00m \u001b[38;5;21;01mpd\u001b[39;00m\n\u001b[1;32m      2\u001b[0m \u001b[38;5;28;01mimport\u001b[39;00m \u001b[38;5;21;01mnumpy\u001b[39;00m \u001b[38;5;28;01mas\u001b[39;00m \u001b[38;5;21;01mnp\u001b[39;00m\n\u001b[0;32m----> 3\u001b[0m \u001b[38;5;28;01mimport\u001b[39;00m \u001b[38;5;21;01mmatplotlib\u001b[39;00m\u001b[38;5;21;01m.\u001b[39;00m\u001b[38;5;21;01mpyplot\u001b[39;00m \u001b[38;5;28;01mas\u001b[39;00m \u001b[38;5;21;01mplt\u001b[39;00m\n\u001b[1;32m      4\u001b[0m \u001b[38;5;28;01mfrom\u001b[39;00m \u001b[38;5;21;01mipaddress\u001b[39;00m \u001b[38;5;28;01mimport\u001b[39;00m ip_address\n",
      "\u001b[0;31mModuleNotFoundError\u001b[0m: No module named 'matplotlib'"
     ]
    }
   ],
   "source": [
    "import pandas as pd\n",
    "import numpy as np\n",
    "import matplotlib.pyplot as plt\n",
    "from ipaddress import ip_address"
   ]
  },
  {
   "cell_type": "markdown",
   "metadata": {},
   "source": [
    "## Exercise 1:  Splitting and Filtering a Series\n",
    "\n",
    "In this exercise, you are given a list of email addresses called `emails`.  Your goal is to find the email accounts from domains that end in `.edu`.  To accomplish this, you will need to:\n",
    "1. Filter the series to remove the emails that do not end in .edu\n",
    "2. Extract the accounts. \n",
    "\n",
    "If you get stuck, refer to the documentation for Pandas string manipulation (http://pandas.pydata.org/pandas-docs/stable/text.html) or the slides.  Note that there are various functions to accomplish this task."
   ]
  },
  {
   "cell_type": "code",
   "execution_count": 2,
   "metadata": {
    "ExecuteTime": {
     "end_time": "2023-07-03T20:53:59.125987Z",
     "start_time": "2023-07-03T20:53:59.122311Z"
    }
   },
   "outputs": [],
   "source": [
    "emails = ['alawrence0@prlog.org',\n",
    "'blynch1@businessweek.com',\n",
    "'mdixon2@cmu.edu',\n",
    "'rvasquez3@1688.com',\n",
    "'astone4@creativecommons.org',\n",
    "'mcarter5@chicagotribune.com',\n",
    "'dcole6@vinaora.com',\n",
    "'kpeterson7@topsy.com',\n",
    "'ewebb8@cnet.com',\n",
    "'jtaylor9@google.ru',\n",
    "'ecarra@buzzfeed.com',\n",
    "'jjonesb@arizona.edu',\n",
    "'jbowmanc@disqus.com',\n",
    "'eduardo_sanchezd@npr.org',\n",
    "'emooree@prweb.com',\n",
    "'abbedu@google.com',\n",
    "'eberryf@brandeis.edu',\n",
    "'sgardnerh@wikipedia.org',\n",
    "'balvarezi@delicious.com',\n",
    "'blewisj@privacy.gov.au']"
   ]
  },
  {
   "cell_type": "code",
   "execution_count": 3,
   "metadata": {
    "ExecuteTime": {
     "end_time": "2023-07-03T20:53:59.780897Z",
     "start_time": "2023-07-03T20:53:59.772657Z"
    }
   },
   "outputs": [
    {
     "name": "stdout",
     "output_type": "stream",
     "text": [
      "2          mdixon2@cmu.edu\n",
      "11     jjonesb@arizona.edu\n",
      "16    eberryf@brandeis.edu\n",
      "dtype: object\n"
     ]
    }
   ],
   "source": [
    "email_series = pd.Series(emails)\n",
    "filtered_emails = email_series[email_series.str.contains('\\.edu')]\n",
    "print( filtered_emails )"
   ]
  },
  {
   "cell_type": "code",
   "execution_count": 4,
   "metadata": {
    "ExecuteTime": {
     "end_time": "2023-07-03T20:54:00.544021Z",
     "start_time": "2023-07-03T20:54:00.540012Z"
    }
   },
   "outputs": [
    {
     "name": "stdout",
     "output_type": "stream",
     "text": [
      "2     mdixon2\n",
      "11    jjonesb\n",
      "16    eberryf\n",
      "dtype: object\n"
     ]
    }
   ],
   "source": [
    "accounts = filtered_emails.str.split('@').str[0]\n",
    "print( accounts )"
   ]
  },
  {
   "cell_type": "code",
   "execution_count": 5,
   "metadata": {
    "ExecuteTime": {
     "end_time": "2023-07-03T20:54:01.231415Z",
     "start_time": "2023-07-03T20:54:01.222195Z"
    }
   },
   "outputs": [
    {
     "data": {
      "text/plain": [
       "2     mdixon2\n",
       "11    jjonesb\n",
       "16    eberryf\n",
       "dtype: object"
      ]
     },
     "execution_count": 5,
     "metadata": {},
     "output_type": "execute_result"
    }
   ],
   "source": [
    "email_series[email_series.str.contains('\\.edu')].str.split('@').str[0]"
   ]
  },
  {
   "cell_type": "markdown",
   "metadata": {},
   "source": [
    "## Exercise 2:  Applying a Function\n",
    "\n",
    "In this exercise you are given a list of weights in pounds and a function to convert the measures into kilograms.  For this exercise, ***apply*** the conversion function to the original series and convert the measures into kilograms."
   ]
  },
  {
   "cell_type": "code",
   "execution_count": 6,
   "metadata": {
    "ExecuteTime": {
     "end_time": "2023-07-03T20:54:02.453410Z",
     "start_time": "2023-07-03T20:54:02.449586Z"
    }
   },
   "outputs": [],
   "source": [
    "poundsToKilograms = lambda x: x * 0.45359237\n",
    "weights = [31.09, 46.48, 24.0, 39.99, 19.33, 39.61, 40.91, 52.24, 30.77, 17.23, 34.87 ]"
   ]
  },
  {
   "cell_type": "code",
   "execution_count": 7,
   "metadata": {
    "ExecuteTime": {
     "end_time": "2023-07-03T20:54:03.060864Z",
     "start_time": "2023-07-03T20:54:03.054965Z"
    }
   },
   "outputs": [
    {
     "name": "stdout",
     "output_type": "stream",
     "text": [
      "0     14.102187\n",
      "1     21.082973\n",
      "2     10.886217\n",
      "3     18.139159\n",
      "4      8.767941\n",
      "5     17.966794\n",
      "6     18.556464\n",
      "7     23.695665\n",
      "8     13.957037\n",
      "9      7.815397\n",
      "10    15.816766\n",
      "dtype: float64\n"
     ]
    }
   ],
   "source": [
    "pounds = pd.Series( weights )\n",
    "kilos = pounds.apply( poundsToKilograms )\n",
    "print( kilos )"
   ]
  },
  {
   "cell_type": "code",
   "execution_count": 8,
   "metadata": {
    "ExecuteTime": {
     "end_time": "2023-07-03T20:54:03.666751Z",
     "start_time": "2023-07-03T20:54:03.662265Z"
    }
   },
   "outputs": [
    {
     "data": {
      "text/plain": [
       "0     14.102187\n",
       "1     21.082973\n",
       "2     10.886217\n",
       "3     18.139159\n",
       "4      8.767941\n",
       "5     17.966794\n",
       "6     18.556464\n",
       "7     23.695665\n",
       "8     13.957037\n",
       "9      7.815397\n",
       "10    15.816766\n",
       "dtype: float64"
      ]
     },
     "execution_count": 8,
     "metadata": {},
     "output_type": "execute_result"
    }
   ],
   "source": [
    "pounds * 0.45359237"
   ]
  },
  {
   "cell_type": "markdown",
   "metadata": {},
   "source": [
    "## Exercise 3: Putting it all together\n",
    "You are given a Series of IP Addresses and the goal is to limit this data to private IP addresses.  Python has an `ipaddress` module which provides the capability to create, manipulate and operate on IPv4 and IPv6 addresses and networks.  Complete documentation is available here: https://docs.python.org/3/library/ipaddress.html.  \n",
    "\n",
    "Here are some examples of how you might use this module:\n",
    "\n",
    "```python\n",
    "import ipaddress\n",
    "myIP = ipaddress.ip_address( '192.168.0.1' )\n",
    "myNetwork = ipaddress.ip_network( '192.168.0.0/28' )\n",
    "\n",
    "#Check membership in network\n",
    "if myIP in myNetwork:  #This works\n",
    "    print( \"Yay!\" )\n",
    "\n",
    "#Loop through CIDR blocks\n",
    "for ip in myNetwork:\n",
    "    print( ip )\n",
    "\n",
    "192.168.0.0\n",
    "192.168.0.1\n",
    "…\n",
    "…\n",
    "192.168.0.13\n",
    "192.168.0.14\n",
    "192.168.0.15\n",
    "\n",
    "#Testing to see if an IP is private\n",
    "if myIP.is_private:\n",
    "    print( \"This IP is private\" )\n",
    "else:\n",
    "    print( \"Routable IP\" )\n",
    "\n",
    "```\n",
    "\n",
    "1.  First, write a function which takes an IP address and returns true if the IP is private, false if it is public.  HINT:  use the ```ipaddress``` module. \n",
    "2.  Next, use this to create a Series of true/false values in the same sequence as your original Series.\n",
    "3.  Finally, use this to filter out the original Series so that it contains only private IP addresses."
   ]
  },
  {
   "cell_type": "code",
   "execution_count": 9,
   "metadata": {
    "ExecuteTime": {
     "end_time": "2023-07-03T20:54:05.426212Z",
     "start_time": "2023-07-03T20:54:05.422741Z"
    }
   },
   "outputs": [],
   "source": [
    "hosts = [ '192.168.1.2', '10.10.10.2', '172.143.23.34', '34.34.35.34', '172.15.0.1', '172.17.0.1']"
   ]
  },
  {
   "cell_type": "code",
   "execution_count": 10,
   "metadata": {
    "ExecuteTime": {
     "end_time": "2023-07-03T20:54:05.831747Z",
     "start_time": "2023-07-03T20:54:05.829135Z"
    }
   },
   "outputs": [],
   "source": [
    "def is_private(x):\n",
    "    return ip_address(x).is_private"
   ]
  },
  {
   "cell_type": "code",
   "execution_count": 11,
   "metadata": {
    "ExecuteTime": {
     "end_time": "2023-07-03T20:54:06.234230Z",
     "start_time": "2023-07-03T20:54:06.230131Z"
    }
   },
   "outputs": [
    {
     "data": {
      "text/plain": [
       "True"
      ]
     },
     "execution_count": 11,
     "metadata": {},
     "output_type": "execute_result"
    }
   ],
   "source": [
    "is_private('192.168.0.1')"
   ]
  },
  {
   "cell_type": "code",
   "execution_count": 12,
   "metadata": {
    "ExecuteTime": {
     "end_time": "2023-07-03T20:54:06.638389Z",
     "start_time": "2023-07-03T20:54:06.633539Z"
    }
   },
   "outputs": [
    {
     "name": "stdout",
     "output_type": "stream",
     "text": [
      "0    192.168.1.2\n",
      "1     10.10.10.2\n",
      "5     172.17.0.1\n",
      "dtype: object\n"
     ]
    }
   ],
   "source": [
    "IPData = pd.Series( hosts )\n",
    "privateIPs = IPData[IPData.apply( lambda x : ip_address(x).is_private ) ]\n",
    "print( privateIPs )"
   ]
  },
  {
   "cell_type": "code",
   "execution_count": 13,
   "metadata": {
    "ExecuteTime": {
     "end_time": "2023-07-03T20:54:07.113355Z",
     "start_time": "2023-07-03T20:54:07.107848Z"
    }
   },
   "outputs": [
    {
     "data": {
      "text/plain": [
       "0    192.168.1.2\n",
       "1     10.10.10.2\n",
       "5     172.17.0.1\n",
       "dtype: object"
      ]
     },
     "execution_count": 13,
     "metadata": {},
     "output_type": "execute_result"
    }
   ],
   "source": [
    "IPData[IPData.apply(is_private)]"
   ]
  },
  {
   "cell_type": "code",
   "execution_count": null,
   "metadata": {},
   "outputs": [],
   "source": []
  }
 ],
 "metadata": {
  "kernelspec": {
   "display_name": "Python 3 (ipykernel)",
   "language": "python",
   "name": "python3"
  },
  "language_info": {
   "codemirror_mode": {
    "name": "ipython",
    "version": 3
   },
   "file_extension": ".py",
   "mimetype": "text/x-python",
   "name": "python",
   "nbconvert_exporter": "python",
   "pygments_lexer": "ipython3",
   "version": "3.12.2"
  },
  "toc": {
   "base_numbering": 1,
   "nav_menu": {},
   "number_sections": false,
   "sideBar": false,
   "skip_h1_title": false,
   "title_cell": "Table of Contents",
   "title_sidebar": "Contents",
   "toc_cell": false,
   "toc_position": {},
   "toc_section_display": false,
   "toc_window_display": false
  },
  "varInspector": {
   "cols": {
    "lenName": 16,
    "lenType": 16,
    "lenVar": 40
   },
   "kernels_config": {
    "python": {
     "delete_cmd_postfix": "",
     "delete_cmd_prefix": "del ",
     "library": "var_list.py",
     "varRefreshCmd": "print(var_dic_list())"
    },
    "r": {
     "delete_cmd_postfix": ") ",
     "delete_cmd_prefix": "rm(",
     "library": "var_list.r",
     "varRefreshCmd": "cat(var_dic_list()) "
    }
   },
   "types_to_exclude": [
    "module",
    "function",
    "builtin_function_or_method",
    "instance",
    "_Feature"
   ],
   "window_display": false
  },
  "widgets": {
   "application/vnd.jupyter.widget-state+json": {
    "state": {},
    "version_major": 2,
    "version_minor": 0
   }
  }
 },
 "nbformat": 4,
 "nbformat_minor": 4
}
