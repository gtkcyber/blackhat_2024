{
 "cells": [
  {
   "cell_type": "markdown",
   "id": "5d3bf6ec",
   "metadata": {},
   "source": [
    "<img src=\"../img/GTK_Logo_Social Icon.jpg\" width=175 align=\"right\" />\n",
    "\n",
    "# Worksheet 11.0 Attacking AI\n",
    "\n",
    "In this lab, we will learn how to use the Adversarial Robustness Toolkit (ART) to launch various attacks against models. The first attack you will launch will be to create adversarial examples from a model.  These examples could be used to defeat a model, or control the model's behavior.\n",
    "\n",
    "The documentation for ART can be found here: https://github.com/Trusted-AI/adversarial-robustness-toolbox/tree/main"
   ]
  },
  {
   "cell_type": "code",
   "execution_count": 1,
   "id": "2cb78309",
   "metadata": {},
   "outputs": [
    {
     "ename": "ModuleNotFoundError",
     "evalue": "No module named 'art'",
     "output_type": "error",
     "traceback": [
      "\u001b[0;31m---------------------------------------------------------------------------\u001b[0m",
      "\u001b[0;31mModuleNotFoundError\u001b[0m                       Traceback (most recent call last)",
      "Cell \u001b[0;32mIn[1], line 4\u001b[0m\n\u001b[1;32m      2\u001b[0m \u001b[38;5;28;01mimport\u001b[39;00m \u001b[38;5;21;01mpandas\u001b[39;00m \u001b[38;5;28;01mas\u001b[39;00m \u001b[38;5;21;01mpd\u001b[39;00m\n\u001b[1;32m      3\u001b[0m \u001b[38;5;28;01mimport\u001b[39;00m \u001b[38;5;21;01mpickle\u001b[39;00m\n\u001b[0;32m----> 4\u001b[0m \u001b[38;5;28;01mfrom\u001b[39;00m \u001b[38;5;21;01mart\u001b[39;00m\u001b[38;5;21;01m.\u001b[39;00m\u001b[38;5;21;01mattacks\u001b[39;00m\u001b[38;5;21;01m.\u001b[39;00m\u001b[38;5;21;01mevasion\u001b[39;00m \u001b[38;5;28;01mimport\u001b[39;00m DecisionTreeAttack, HopSkipJump\n\u001b[1;32m      5\u001b[0m \u001b[38;5;28;01mfrom\u001b[39;00m \u001b[38;5;21;01mart\u001b[39;00m\u001b[38;5;21;01m.\u001b[39;00m\u001b[38;5;21;01mestimators\u001b[39;00m\u001b[38;5;21;01m.\u001b[39;00m\u001b[38;5;21;01mclassification\u001b[39;00m \u001b[38;5;28;01mimport\u001b[39;00m SklearnClassifier, BlackBoxClassifier\n\u001b[1;32m      6\u001b[0m \u001b[38;5;28;01mfrom\u001b[39;00m \u001b[38;5;21;01mart\u001b[39;00m\u001b[38;5;21;01m.\u001b[39;00m\u001b[38;5;21;01mutils\u001b[39;00m \u001b[38;5;28;01mimport\u001b[39;00m to_categorical\n",
      "\u001b[0;31mModuleNotFoundError\u001b[0m: No module named 'art'"
     ]
    }
   ],
   "source": [
    "import numpy as np\n",
    "import pandas as pd\n",
    "import pickle\n",
    "from art.attacks.evasion import DecisionTreeAttack, HopSkipJump\n",
    "from art.estimators.classification import SklearnClassifier, BlackBoxClassifier\n",
    "from art.utils import to_categorical\n",
    "\n",
    "from sklearn.model_selection import train_test_split\n",
    "from sklearn.tree import DecisionTreeClassifier\n",
    "from sklearn import model_selection\n",
    "from sklearn import metrics\n",
    "from yellowbrick.classifier import ClassificationReport, ConfusionMatrix\n",
    "from matplotlib import pyplot as plt\n",
    "%matplotlib inline\n",
    "\n",
    "import warnings\n",
    "warnings.filterwarnings('ignore')"
   ]
  },
  {
   "cell_type": "markdown",
   "id": "4d975a6d",
   "metadata": {},
   "source": [
    "## Decision Tree Attack\n",
    "In this example, we are going to use the ART to attack a decision tree. The goal is to create adversarial examples which could be used to control the output of the model.  \n",
    "\n",
    "Due to the nature of decision trees, it is not necessary to use gradient descent to discover adversarial examples and instead, it can be accomplished by tree traversals. This attack is a whitebox attack in that you need to have access to the actual model. \n",
    "\n",
    "This methodology was described in a paper by Papernot et al. in https://arxiv.org/abs/1605.07277. You can see this code in action here: https://github.com/Trusted-AI/adversarial-robustness-toolbox/blob/main/notebooks/attack_decision_tree.ipynb.\n",
    "\n",
    "First we're going to load the model from a pickle file. "
   ]
  },
  {
   "cell_type": "code",
   "execution_count": null,
   "id": "68db8841",
   "metadata": {},
   "outputs": [],
   "source": [
    "# Load the classifier from the pickle file\n",
    "clf = pickle.load(open(\"../data/dga_decision_tree.sav\", \"rb\"))"
   ]
  },
  {
   "cell_type": "markdown",
   "id": "bb8243ae",
   "metadata": {},
   "source": [
    "We will also need some training data.  In this case, we'll use the data that was used to train the original model, but this is not necessary. "
   ]
  },
  {
   "cell_type": "code",
   "execution_count": null,
   "id": "e3d41937",
   "metadata": {},
   "outputs": [],
   "source": [
    "df = pd.read_csv('../data/dga_features_final_df.csv')\n",
    "target = df['isDGA']\n",
    "feature_matrix = df.drop(['isDGA'], axis=1)\n",
    "feature_matrix_train, feature_matrix_test, target_train, target_test = train_test_split(feature_matrix, target, test_size=0.25)"
   ]
  },
  {
   "cell_type": "markdown",
   "id": "98c4a605",
   "metadata": {},
   "source": [
    "### Step 1:  Create the ART Classifier\n",
    "As a first step, we need to use ART to create an \"adversarial\" classifier.  Use the `SklearnClassifier` module from ART. "
   ]
  },
  {
   "cell_type": "code",
   "execution_count": null,
   "id": "7446f161",
   "metadata": {},
   "outputs": [],
   "source": [
    "# Your code here ...\n"
   ]
  },
  {
   "cell_type": "markdown",
   "id": "5ef62f2c",
   "metadata": {},
   "source": [
    "### Step 2:  Attack!!!\n",
    "Now that you've created an adversarial classifier the next step is to train that adversarial classifier.  Use the `DecisionTreeAttack` module in ART to launch an attack, then call the `generate()` with the `feature_matrix_train` and `target_train` datasets.  The `generate()` method can be called either with only the feature matrix alone or you can call it with a list of desired targets.  \n",
    "\n",
    "For our example, let's say that we want all the results to be classified as legitimate, we're going to pass it a numpy array of 1500 `0` for a target vector.\n",
    "\n",
    "\n",
    "Note: You will have to call the `.to_numpy()` methods on these datasets when you pass them to ART.\n",
    "\n",
    "\n",
    "This step generates a lot of future warnings. For this exercise we have suppressed them, however scikit-learn will throw warnings when you mix numpy arrays and dataframes.  The way to avoid this is to actually train your models on numpy arrays.  To do that, during the training process, convert the dataframe to a numpy array with the `.to_numpy()` method."
   ]
  },
  {
   "cell_type": "code",
   "execution_count": null,
   "id": "3824ca45",
   "metadata": {},
   "outputs": [],
   "source": [
    "# Here's an array of all zeros to fool the classifier\n",
    "all_legit = np.array([0] * 1500)\n",
    "\n",
    "# First create the DecisionTreeAttack\n",
    "\n",
    "# Then run the generate function to generate adversarial examples.\n",
    "adversarial_data = # Your code here..."
   ]
  },
  {
   "cell_type": "markdown",
   "id": "77617eb9",
   "metadata": {},
   "source": [
    "### Step 3:  Evaluate the Performance\n",
    "At this point you should have a dataset of adversarial examples that produce exclusively legit classifications.  Now try running that through the original classifier and making a classification report to see how we did."
   ]
  },
  {
   "cell_type": "code",
   "execution_count": null,
   "id": "16b30ebb",
   "metadata": {},
   "outputs": [],
   "source": [
    "adversarial_preds = clf.predict(adversarial_data)\n",
    "\n",
    "viz = ClassificationReport(clf)\n",
    "viz.fit(feature_matrix_train, target_train)\n",
    "viz.score(adversarial_data, adversarial_preds)\n",
    "viz.show()"
   ]
  },
  {
   "cell_type": "code",
   "execution_count": null,
   "id": "2b8adf34",
   "metadata": {},
   "outputs": [],
   "source": [
    "viz = ConfusionMatrix(clf)\n",
    "viz.fit(feature_matrix_train, target_train)\n",
    "viz.score(adversarial_data, adversarial_preds)\n",
    "viz.show()"
   ]
  },
  {
   "cell_type": "markdown",
   "id": "c9c979d7",
   "metadata": {},
   "source": [
    "If you did this correctly, you should get predictions that are entirely of the `0` class.  This shows how you are able to generate adverarial data that can be crafted to direct the decisions of a model."
   ]
  },
  {
   "cell_type": "markdown",
   "id": "ce24cb02",
   "metadata": {},
   "source": [
    "## BlackBox Adversarial Attack\n",
    "Now that you've successfully launched a white box adversarial attack, let's try a blackbox attack. We're going to use the `HopSkipJump` attack from Jianbo et al. (2019). This is a powerful black-box attack that only requires final class prediction, and is an advanced version of the boundary attack.\n",
    "\n",
    "Paper link: https://arxiv.org/abs/1904.02144\n",
    "\n",
    "In order to execute this attack, we will need a `predict()` function which calls a trained model and returns the predictions. In our example, the `predict()` function is simply a wrapper for our trained classifier, however, this same technique could be used with a true blackbox model where only the predictions are accessible. In that case, the `predict()` function would contain API calls or something similar."
   ]
  },
  {
   "cell_type": "code",
   "execution_count": null,
   "id": "2d5848c8",
   "metadata": {},
   "outputs": [],
   "source": [
    "def predict(x):\n",
    "    '''\n",
    "    Call the model and return the predictions.  This function could contain calls to a true \n",
    "    blackbox model, but in this example, is calling our pre-trained model.\n",
    "    '''\n",
    "    x = np.array(x)\n",
    "    return to_categorical(clf.predict(x), nb_classes=2)"
   ]
  },
  {
   "cell_type": "markdown",
   "id": "c181d362",
   "metadata": {},
   "source": [
    "### Step 1:  Create the BlackBox Classifier\n",
    "In order to execute the attack we need to first create a `BlackBoxClassifier`.  At a minimum, we need to pass the predict function, the number of features and the number of possible classes."
   ]
  },
  {
   "cell_type": "code",
   "execution_count": null,
   "id": "d9509e5b",
   "metadata": {},
   "outputs": [],
   "source": [
    "blackbox_clf = # Your code here..."
   ]
  },
  {
   "cell_type": "markdown",
   "id": "15a96463",
   "metadata": {},
   "source": [
    "### Step 2:  ATTACK!!  Generate Adversarial Examples\n",
    "The next step is to create the `HopSkipJump` object to launch the attack.  This follows a similar pattern as the previous attack where you create the `attack` object, then call the `generate()` method passing the testing features (`feature_matrix_test`).  This will generate an array of adversarial examples.  \n",
    "\n",
    "For our use case, let's say that we want to generate adversarial examples that skew towards one class. In the `HopSkipJump` object, set `targeted=True` which forces the attack to generate examples for one class only. \n",
    "\n",
    "\n",
    "NOTE: You will have to convert the testing features to a numpy array like this:\n",
    "```python\n",
    "feature_matrix_test.to_numpy()\n",
    "```"
   ]
  },
  {
   "cell_type": "code",
   "execution_count": null,
   "id": "6ea84d71",
   "metadata": {},
   "outputs": [],
   "source": [
    "# Create the attack object.\n",
    "attack = # Your code here ..."
   ]
  },
  {
   "cell_type": "code",
   "execution_count": null,
   "id": "df9cf522",
   "metadata": {},
   "outputs": [],
   "source": [
    "# Now generate the adversarial examples\n",
    "adversarial_data_blackbox = # Your code here ..."
   ]
  },
  {
   "cell_type": "markdown",
   "id": "a1d8fd09",
   "metadata": {},
   "source": [
    "### Step 3:  Evaluate the Attack\n",
    "Now that you have a set of adversarial data, let's make some predictions with that data and see how effective it is in predicting the model output.  You won't be able to use Yellowbrick here because the `BlackBoxClassifier` does not implement the `fit()` method. \n",
    "\n",
    "For this final step, make the predictions, then create a confusion matrix of this data to evaluate your BlackBox model's performance."
   ]
  },
  {
   "cell_type": "code",
   "execution_count": null,
   "id": "80f4cf47",
   "metadata": {},
   "outputs": [],
   "source": [
    "# First make some predictions using the adversarial data you generated\n",
    "adversarial_predictions = # Your code here...\n"
   ]
  },
  {
   "cell_type": "code",
   "execution_count": null,
   "id": "7e79fe0d",
   "metadata": {},
   "outputs": [],
   "source": [
    "# Now create a confusion matrix\n",
    "confusion_matrix= metrics.confusion_matrix(target_test, adversarial_predictions)\n",
    "cm_display = metrics.ConfusionMatrixDisplay(confusion_matrix).plot()"
   ]
  },
  {
   "cell_type": "markdown",
   "id": "115cdb56",
   "metadata": {},
   "source": [
    "How did the model do?  If you did this correctly, you should have a blackbox classifier that perfectly classified the adversarial data equally into both the legit and dga class. "
   ]
  }
 ],
 "metadata": {
  "kernelspec": {
   "display_name": "Python 3 (ipykernel)",
   "language": "python",
   "name": "python3"
  },
  "language_info": {
   "codemirror_mode": {
    "name": "ipython",
    "version": 3
   },
   "file_extension": ".py",
   "mimetype": "text/x-python",
   "name": "python",
   "nbconvert_exporter": "python",
   "pygments_lexer": "ipython3",
   "version": "3.12.2"
  },
  "widgets": {
   "application/vnd.jupyter.widget-state+json": {
    "state": {},
    "version_major": 2,
    "version_minor": 0
   }
  }
 },
 "nbformat": 4,
 "nbformat_minor": 5
}
