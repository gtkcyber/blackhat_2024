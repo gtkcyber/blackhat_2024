{
 "cells": [
  {
   "cell_type": "markdown",
   "id": "d7714cce",
   "metadata": {
    "ExecuteTime": {
     "end_time": "2023-07-28T22:27:28.015095Z",
     "start_time": "2023-07-28T22:27:28.009889Z"
    }
   },
   "source": [
    "<img src=\"../img/GTK_Logo_Social Icon.jpg\" width=175 align=\"right\" />\n",
    "\n",
    "\n",
    "# Worksheet 10: Using GPT for Anomaly Detection\n",
    "\n",
    "This worksheet covers concepts relating to Anomaly Detection using an LLM.  It should take no more than 20-30 minutes to complete.  Please raise your hand if you get stuck.  \n",
    "\n",
    "There are many ways to accomplish the tasks that you are presented with, however you will find that by using the techniques covered in class, the exercises should be relatively simple. \n",
    "\n",
    "## Import the Libraries\n",
    "For this exercise, we will be using:\n",
    "* Pandas (https://pandas.pydata.org/pandas-docs/stable/)\n",
    "* OpenAI (https://pypi.org/project/openai/)\n",
    "\n",
    "## Obtain an OpenAI Key\n",
    "For this exercise, you will need an OpenAI API Key. Please go to https://openai.com and get your API key. For the purposes of this exercise, you do not need a paid account.  "
   ]
  },
  {
   "cell_type": "code",
   "execution_count": null,
   "id": "4d9b6a37",
   "metadata": {
    "ExecuteTime": {
     "end_time": "2023-07-28T22:35:00.396144Z",
     "start_time": "2023-07-28T22:35:00.393163Z"
    }
   },
   "outputs": [],
   "source": [
    "import pandas as pd \n",
    "import os \n",
    "import openai\n",
    "import ast\n",
    "import json"
   ]
  },
  {
   "cell_type": "markdown",
   "id": "c0fde237",
   "metadata": {},
   "source": [
    "Copy your OpenAI API key here."
   ]
  },
  {
   "cell_type": "code",
   "execution_count": null,
   "id": "82a4db6c",
   "metadata": {
    "ExecuteTime": {
     "end_time": "2023-07-28T22:35:01.002843Z",
     "start_time": "2023-07-28T22:35:00.999906Z"
    }
   },
   "outputs": [],
   "source": [
    "openai.api_key = \"<Your OpenAI API Key Here...>\""
   ]
  },
  {
   "cell_type": "markdown",
   "id": "1bfd872b",
   "metadata": {},
   "source": [
    "## Step 1:  Read in the Data\n",
    "\n",
    "For this exercise, we're going to see how well OpenAI functions to detect anomalies in data.  We're going to use the same CPU dataset that we used in the Anomaly Detection worksheet.\n",
    "\n",
    "First we're going to read the \"training\" data, into a dataframe followed by the test data.  If you recall, the training data does not contain any anomalies, but the test data does about 10 seconds into the data. "
   ]
  },
  {
   "cell_type": "code",
   "execution_count": null,
   "id": "65c85a2f",
   "metadata": {
    "ExecuteTime": {
     "end_time": "2023-07-28T22:35:01.357399Z",
     "start_time": "2023-07-28T22:35:01.348262Z"
    }
   },
   "outputs": [],
   "source": [
    "training_data = pd.read_csv('../data/cpu-train-b.csv', parse_dates=[0])\n",
    "testing_data = pd.read_csv('../data/cpu-test-b.csv', parse_dates=[0])"
   ]
  },
  {
   "cell_type": "markdown",
   "id": "c2f5843e",
   "metadata": {},
   "source": [
    "## Step 2:  Format the Data for the Prompt:\n",
    "Next, we're going to create a prompt that has a sample of the training data, as well as the unknown data. There are many ways to format the prompt, but we're going to do something like this.  We want every line in the dataframe to be formatted as shown below:\n",
    "\n",
    "```\n",
    "Timestamp: 2022-01-01 23:01:01, cpu 2.0\n",
    "```\n",
    "\n",
    "As a first step, write a function which iterates over the rows of a dataframe and prints them in the format above."
   ]
  },
  {
   "cell_type": "code",
   "execution_count": null,
   "id": "5143034f",
   "metadata": {
    "ExecuteTime": {
     "end_time": "2023-07-28T22:35:01.735069Z",
     "start_time": "2023-07-28T22:35:01.731603Z"
    }
   },
   "outputs": [],
   "source": [
    "def format_data_for_prompt(df: pd.DataFrame) -> str:\n",
    "    '''\n",
    "    This function accepts a dataframe as input and formats that data\n",
    "    for the OpenAI prompt.\n",
    "    '''\n",
    "    data = \"\"\n",
    "    # Your code here... \n",
    "    return data"
   ]
  },
  {
   "cell_type": "markdown",
   "id": "1fff57b5",
   "metadata": {},
   "source": [
    "## Step 3:  Generate the Prompt:\n",
    "Now that we have that, use the function to craft a prompt.  In our experiments, the following structure worked well:\n",
    "\n",
    "```\n",
    "The following contains 50 lines representing normal CPU timeseries data.\n",
    "Timestamp: 2017-01-27 19:03:00, cpu: 0.88\n",
    "Timestamp: 2017-01-28 02:09:00, cpu: 1.22\n",
    "Timestamp: 2017-01-28 04:04:00, cpu: 1.57\n",
    "Timestamp: 2017-01-28 00:10:00, cpu: 0.87\n",
    "Timestamp: 2017-01-28 02:08:00, cpu: 1.28\n",
    "Timestamp: 2017-01-28 03:28:00, cpu: 1.42\n",
    "Timestamp: 2017-01-28 01:03:00, cpu: 2.23\n",
    "...\n",
    "\n",
    "Below are 40 rows of unknown data.  Find any anomalies in this data.\n",
    "Timestamp: 2017-01-28 04:42:00, cpu: 1.71\n",
    "Timestamp: 2017-01-28 04:43:00, cpu: 1.58\n",
    "Timestamp: 2017-01-28 04:44:00, cpu: 1.86\n",
    "Timestamp: 2017-01-28 04:45:00, cpu: 1.66\n",
    "Timestamp: 2017-01-28 04:46:00, cpu: 1.61\n",
    "Timestamp: 2017-01-28 04:47:00, cpu: 1.52\n",
    "Timestamp: 2017-01-28 04:48:00, cpu: 1.43\n",
    "...\n",
    "\n",
    "\n",
    "Output the anomalous rows as a python object.\n",
    "```\n",
    "You do not and should not need to use the entire training set as that would create a really long prompt and the end result would be an expensive API call.  For the example we arbitrarily chose to use a sample of 50 rows.  For the testing set, you'll need to send at least the first 20 rows."
   ]
  },
  {
   "cell_type": "code",
   "execution_count": null,
   "id": "b9059cd6",
   "metadata": {
    "ExecuteTime": {
     "end_time": "2023-07-28T22:35:02.718060Z",
     "start_time": "2023-07-28T22:35:02.710056Z"
    }
   },
   "outputs": [],
   "source": [
    "# Your code here ..."
   ]
  },
  {
   "cell_type": "markdown",
   "id": "9e325da4",
   "metadata": {},
   "source": [
    "## Step 4:  Call the LLM\n",
    "The next step is to actually call the LLM using the prompt you have generated.  We have provided a convenience function below to actually make the call.\n",
    "\n",
    "For this step, make the call, and you will have to clean up the response so that you just get the actual response. \n",
    "\n",
    "HINT:  You may want to use Python's built in `json` and `ast` libraries to convert the results from the LLM into an actual python object.\n",
    "\n",
    "### Note About Model Choice: \n",
    "In our experiments developing this lab, we found that the model `text-davinci-003` worked the best for this use case.  Unfortunately, OpenAI is deprecating this model as well as the completetions interface. "
   ]
  },
  {
   "cell_type": "code",
   "execution_count": null,
   "id": "e2f581d2",
   "metadata": {
    "ExecuteTime": {
     "end_time": "2023-07-30T03:35:32.393672Z",
     "start_time": "2023-07-30T03:35:32.389083Z"
    }
   },
   "outputs": [],
   "source": [
    "def make_openai_call(prompt: str):\n",
    "    response = openai.Completion.create(\n",
    "        model=\"text-davinci-003\",\n",
    "        prompt=prompt,\n",
    "        temperature=1,\n",
    "        max_tokens=1024,\n",
    "        top_p=1,\n",
    "        frequency_penalty=0,\n",
    "        presence_penalty=0\n",
    "    )\n",
    "    return response\n"
   ]
  },
  {
   "cell_type": "code",
   "execution_count": null,
   "id": "c34f61bf",
   "metadata": {
    "ExecuteTime": {
     "end_time": "2023-07-28T22:35:20.121648Z",
     "start_time": "2023-07-28T22:35:04.915192Z"
    }
   },
   "outputs": [],
   "source": [
    "def clean_results(response):\n",
    "    # Your code here ...\n"
   ]
  },
  {
   "cell_type": "markdown",
   "id": "63098451",
   "metadata": {},
   "source": [
    "## Final Thoughts\n",
    "How did the LLM do in identifying anomalous entries in your time series?\n",
    "\n",
    "It is interesting to see that if you ask the LLM for a description, the LLM is also capable of telling you why the data point is anomalous. This could be interesting to try this with log entries to identify unusual behavior. \n",
    "\n",
    "The obvious concerns are security and cost."
   ]
  }
 ],
 "metadata": {
  "kernelspec": {
   "display_name": "Python 3 (ipykernel)",
   "language": "python",
   "name": "python3"
  },
  "language_info": {
   "codemirror_mode": {
    "name": "ipython",
    "version": 3
   },
   "file_extension": ".py",
   "mimetype": "text/x-python",
   "name": "python",
   "nbconvert_exporter": "python",
   "pygments_lexer": "ipython3",
   "version": "3.12.2"
  },
  "varInspector": {
   "cols": {
    "lenName": 16,
    "lenType": 16,
    "lenVar": 40
   },
   "kernels_config": {
    "python": {
     "delete_cmd_postfix": "",
     "delete_cmd_prefix": "del ",
     "library": "var_list.py",
     "varRefreshCmd": "print(var_dic_list())"
    },
    "r": {
     "delete_cmd_postfix": ") ",
     "delete_cmd_prefix": "rm(",
     "library": "var_list.r",
     "varRefreshCmd": "cat(var_dic_list()) "
    }
   },
   "types_to_exclude": [
    "module",
    "function",
    "builtin_function_or_method",
    "instance",
    "_Feature"
   ],
   "window_display": false
  },
  "widgets": {
   "application/vnd.jupyter.widget-state+json": {
    "state": {},
    "version_major": 2,
    "version_minor": 0
   }
  }
 },
 "nbformat": 4,
 "nbformat_minor": 5
}
