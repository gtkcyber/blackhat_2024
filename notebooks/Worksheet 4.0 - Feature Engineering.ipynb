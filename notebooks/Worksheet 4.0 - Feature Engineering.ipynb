{
 "cells": [
  {
   "cell_type": "markdown",
   "metadata": {},
   "source": [
    "<img src=\"../img/GTK_Logo_Social Icon.jpg\" width=175 align=\"right\" />\n",
    "\n",
    "# Worksheet 4: Feature Engineering\n",
    "\n",
    "This worksheet covers concepts covered in the first part of the Feature Engineering module.  It should take no more than 30-40 minutes to complete.  Please raise your hand if you get stuck.  \n",
    "\n",
    "## Import the Libraries\n",
    "For this exercise, we will be using:\n",
    "* Pandas (https://pandas.pydata.org/pandas-docs/stable/)\n",
    "* Numpy (https://docs.scipy.org/doc/numpy/reference/)\n",
    "* Matplotlib (https://matplotlib.org/)\n",
    "* Scikit-learn (https://scikit-learn.org/stable/documentation.html)\n",
    "* YellowBrick (https://www.scikit-yb.org/en/latest/)\n",
    "* Seaborn (https://seaborn.pydata.org)\n",
    "* YData Profiling: (https://ydata-profiling.ydata.ai/docs/master/index.html)"
   ]
  },
  {
   "cell_type": "code",
   "execution_count": null,
   "metadata": {
    "ExecuteTime": {
     "end_time": "2023-08-01T14:26:36.449044Z",
     "start_time": "2023-08-01T14:26:36.443546Z"
    },
    "editable": true,
    "scrolled": true,
    "slideshow": {
     "slide_type": ""
    },
    "tags": []
   },
   "outputs": [],
   "source": [
    "# Load Libraries - Make sure to run this cell!\n",
    "import pandas as pd\n",
    "import numpy as np\n",
    "import re\n",
    "from ydata_profiling import ProfileReport\n",
    "from collections import Counter\n",
    "from sklearn import feature_extraction, model_selection\n",
    "from yellowbrick.features import Rank2D\n",
    "from yellowbrick.features import RadViz\n",
    "from yellowbrick.features import ParallelCoordinates\n",
    "from six.moves import cPickle as pickle\n",
    "\n",
    "import seaborn as sns\n",
    "import matplotlib.pyplot as plt\n",
    "import matplotlib\n",
    "%matplotlib inline\n",
    "\n",
    "import warnings\n",
    "warnings.filterwarnings(\"ignore\", message=\".*The 'nopython' keyword.*\")"
   ]
  },
  {
   "cell_type": "markdown",
   "metadata": {},
   "source": [
    "## Feature Engineering\n",
    "\n",
    "This worksheet is a step-by-step guide on how to detect domains that were generated using \"Domain Generation Algorithm\" (DGA). We will walk you through the process of transforming raw domain strings to Machine Learning features and creating a decision tree classifer which you will use to determine whether a given domain is legit or not. Once you have implemented the classifier, the worksheet will walk you through evaluating your model.  \n",
    "\n",
    "Overview 2 main steps:\n",
    "\n",
    "1. **Feature Engineering** - from raw domain strings to numeric Machine Learning features using DataFrame manipulations\n",
    "2. **Machine Learning Classification** - predict whether a domain is legit or not using a Decision Tree Classifier\n",
    "\n",
    "\n",
    "  \n",
    "\n",
    "**DGA - Background**\n",
    "\n",
    "\"Various families of malware use domain generation\n",
    "algorithms (DGAs) to generate a large number of pseudo-random\n",
    "domain names to connect to a command and control (C2) server.\n",
    "In order to block DGA C2 traffic, security organizations must\n",
    "first discover the algorithm by reverse engineering malware\n",
    "samples, then generate a list of domains for a given seed. The\n",
    "domains are then either preregistered, sink-holed or published\n",
    "in a DNS blacklist. This process is not only tedious, but can\n",
    "be readily circumvented by malware authors. An alternative\n",
    "approach to stop malware from using DGAs is to intercept DNS\n",
    "queries on a network and predict whether domains are DGA\n",
    "generated. Much of the previous work in DGA detection is based\n",
    "on finding groupings of like domains and using their statistical\n",
    "properties to determine if they are DGA generated. However,\n",
    "these techniques are run over large time windows and cannot be\n",
    "used for real-time detection and prevention. In addition, many of\n",
    "these techniques also use contextual information such as passive\n",
    "DNS and aggregations of all NXDomains throughout a network.\n",
    "Such requirements are not only costly to integrate, they may not\n",
    "be possible due to real-world constraints of many systems (such\n",
    "as endpoint detection). An alternative to these systems is a much\n",
    "harder problem: detect DGA generation on a per domain basis\n",
    "with no information except for the domain name. Previous work\n",
    "to solve this harder problem exhibits poor performance and many\n",
    "of these systems rely heavily on manual creation of features;\n",
    "a time consuming process that can easily be circumvented by\n",
    "malware authors...\"    \n",
    "[Citation: Woodbridge et. al 2016: \"Predicting Domain Generation Algorithms with Long Short-Term Memory Networks\"]\n",
    "\n",
    "A better alternative for real-world deployment would be to use \"featureless deep learning\" - We have a separate notebook where you can see how this can be implemented!( https://www.endgame.com/blog/technical-blog/using-deep-learning-detect-dgas, https://github.com/endgameinc/dga_predict)\n",
    "\n",
    "**However, let's learn the basics first!!!**\n"
   ]
  },
  {
   "cell_type": "markdown",
   "metadata": {},
   "source": [
    "## Worksheet for Part 1 - Feature Engineering"
   ]
  },
  {
   "cell_type": "code",
   "execution_count": null,
   "metadata": {},
   "outputs": [],
   "source": [
    "## Load data\n",
    "full_df = pd.read_csv('../data/dga_data_small.csv')\n",
    "full_df.head()"
   ]
  },
  {
   "cell_type": "code",
   "execution_count": null,
   "metadata": {
    "ExecuteTime": {
     "end_time": "2023-08-01T14:26:45.407124Z",
     "start_time": "2023-08-01T14:26:45.353859Z"
    }
   },
   "outputs": [],
   "source": [
    "full_df.drop(['host', 'subclass'], axis='columns', inplace=True)\n",
    "print(\"(Total Rows, Total Cols)\")\n",
    "print(full_df.shape)"
   ]
  },
  {
   "cell_type": "code",
   "execution_count": null,
   "metadata": {},
   "outputs": [],
   "source": [
    "# print a random sample of the DataFrame\n",
    "full_df.sample(5).head() "
   ]
  },
  {
   "cell_type": "code",
   "execution_count": null,
   "metadata": {
    "ExecuteTime": {
     "end_time": "2023-08-01T14:26:46.172037Z",
     "start_time": "2023-08-01T14:26:46.163185Z"
    }
   },
   "outputs": [],
   "source": [
    "# print a sample of dga domains via filtering\n",
    "full_df[full_df.isDGA == 'dga'].sample(5)"
   ]
  },
  {
   "cell_type": "markdown",
   "metadata": {},
   "source": [
    "## Part 1 - Feature Engineering\n",
    "\n",
    "Option 1 to derive Machine Learning features is to manually hand-craft useful contextual information of the domain string. An alternative approach (not covered in this notebook) is \"Featureless Deep Learning\", where an embedding layer takes care of deriving features - a huge step towards more \"AI\".\n",
    "\n",
    "Previous academic research has focused on the following features that are based on contextual information:\n",
    "\n",
    "**List of features**:\n",
    "\n",
    "1. Length [\"length\"]\n",
    "2. Number of digits [\"digits\"]\n",
    "3. Entropy [\"entropy\"] - use ```H_entropy``` function provided \n",
    "4. Vowel to consonant ratio [\"vowel-cons\"] - use ```vowel_consonant_ratio``` function provided\n",
    "5. The index of the first digit - use the ``firstDigitIndex`` function provided\n",
    "5. N-grams [\"n-grams\"] - use ```ngram``` functions provided\n",
    "\n",
    "**Tasks**:    \n",
    "Split into A and B parts, see below...\n",
    "\n",
    "\n",
    "Please run the following function cell and then continue reading the next markdown cell with more details on how to derive those features. Have fun!\n",
    "\n"
   ]
  },
  {
   "cell_type": "code",
   "execution_count": null,
   "metadata": {
    "ExecuteTime": {
     "end_time": "2023-08-01T14:26:47.721651Z",
     "start_time": "2023-08-01T14:26:47.716097Z"
    }
   },
   "outputs": [],
   "source": [
    "def H_entropy (x):\n",
    "    # Calculate Shannon Entropy\n",
    "    prob = [ float(x.count(c)) / len(x) for c in dict.fromkeys(list(x)) ] \n",
    "    H = - sum([ p * np.log2(p) for p in prob ]) \n",
    "    return H\n",
    "\n",
    "def firstDigitIndex( s ):\n",
    "    for i, c in enumerate(s):\n",
    "        if c.isdigit():\n",
    "            return i + 1\n",
    "    return 0\n",
    "\n",
    "def vowel_consonant_ratio (x):\n",
    "    # Calculate vowel to consonant ratio\n",
    "    x = x.lower()\n",
    "    vowels_pattern = re.compile('([aeiou])')\n",
    "    consonants_pattern = re.compile('([b-df-hj-np-tv-z])')\n",
    "    vowels = re.findall(vowels_pattern, x)\n",
    "    consonants = re.findall(consonants_pattern, x)\n",
    "    try:\n",
    "        ratio = len(vowels) / len(consonants)\n",
    "    except: # catch zero devision exception \n",
    "        ratio = 0  \n",
    "    return ratio"
   ]
  },
  {
   "cell_type": "markdown",
   "metadata": {},
   "source": [
    "### Tasks - A - Feature Engineering\n",
    "\n",
    "Please try to derive a new pandas 2D DataFrame with a new column for each of feature. Focus on \n",
    "1. Length [\"length\"]\n",
    "2. Number of digits [\"digits\"]\n",
    "3. Entropy [\"entropy\"] - use ```H_entropy``` function provided \n",
    "4. Vowel to consonant ratio [\"vowel-cons\"] - use ```vowel_consonant_ratio``` function provided\n",
    "5. The index of the first digit - use the ``firstDigitIndex`` function provided\n",
    "\n",
    "Also make sure to encode the ```isDGA``` column as integers. \n",
    "\n",
    "[pandas.Series.str](https://pandas.pydata.org/pandas-docs/stable/reference/api/pandas.Series.str.html#pandas.Series.str), \n",
    "\n",
    "[pandas.Series.replace](https://pandas.pydata.org/pandas-docs/stable/reference/api/pandas.Series.replace.html) \n",
    "\n",
    "[pandas.Series,apply](https://pandas.pydata.org/pandas-docs/stable/reference/api/pandas.Series.apply.html) \n",
    "\n",
    "can be very helpful to quickly derive those features. Functions you need to apply here are provided in above cell."
   ]
  },
  {
   "cell_type": "code",
   "execution_count": null,
   "metadata": {
    "ExecuteTime": {
     "end_time": "2020-07-30T12:09:53.434645Z",
     "start_time": "2020-07-30T12:09:53.362127Z"
    }
   },
   "outputs": [],
   "source": [
    "# derive features\n",
    "\n",
    "# encode strings of target variable as integers\n",
    "\n",
    "# check intermediate 2D pandas DataFrame\n"
   ]
  },
  {
   "cell_type": "markdown",
   "metadata": {},
   "source": [
    "### Tasks - B - Feature Engineering\n",
    "\n",
    "Finally, let's tackle the **ngram** feature. There are multiple steps involved to derive this feature. Here in this notebook, we use an implementation outlined in the this academic paper [Schiavoni 2014: \"Phoenix: DGA-based Botnet Tracking and Intelligence\" - see section: Linguistic Features](http://s2lab.isg.rhul.ac.uk/papers/files/dimva2014.pdf).\n",
    "\n",
    "\n",
    "- **What are ngrams???** Imagine a string like 'facebook', if I were to derive all n-grams for n=2 (aka bi-grams) I would get '['fa', 'ac', 'ce', 'eb', 'bo', 'oo', 'ok']', so you see that you slide with one step from the left and just group 2 characters together each time, a tri-gram for 'facebook' would yielfd '['fac', 'ace', 'ceb', 'ebo', 'boo', 'ook']'. Ngrams have a long history in natural language processing, but are also used a lot for example in detecting malicious executable (raw byte ngrams in this case).\n",
    "\n",
    "Steps involved:\n",
    "\n",
    "1. We have the 10000 most common english words (see data file we loaded, we call this DataFrame ```top_en_words```). Now we run the ```ngrams``` functions on a list of all these words. The output here is a list that contains ALL 1-grams, bi-grams and tri-grams of these 10000 most common english words.\n",
    "2. We used the ```Counter``` function from collections to derive a dictionary ```ngram_common_dict``` that contains the counts of all unique 1-grams, bi-grams and tri-grams.\n",
    "3. Our ```ngram_feature``` function will do the core magic. It takes your domain as input, splits it into ngrams (n is a function parameter) and then looks up these ngrams in the english dictionary ```ngram_common_dict```. Function returns the normalized sum of all ngrams that were contained in the english dictionary. For example, running ```ngram_feature('facebook', d, 2)``` will return 171.28 (this value is just like the one published in the Schiavoni paper).\n",
    "4. Finally ```average_ngram_feature``` wraps around ```ngram_feature```. All it does is take the average of a list of numbers b/c your task is to derive a feature that gives the average of the ngram_feature for three different values of ```n``` n=1,2,3.    \n",
    "5. **YOUR TURN: Apply ```average_ngram_feature``` to you domain column in the DataFrame thereby adding ```ngram``` to the full_df.**\n",
    "6. **YOUR TURN: Finally drop the ```domain``` column from your DataFrame**."
   ]
  },
  {
   "cell_type": "markdown",
   "metadata": {},
   "source": [
    "## Step 1\n",
    "We have the 10000 most common english words ```top_en_words```. "
   ]
  },
  {
   "cell_type": "code",
   "execution_count": null,
   "metadata": {},
   "outputs": [],
   "source": [
    "# Google's 10000 most common english words will be needed to derive a feature called ngrams\n",
    "\n",
    "top_en_words = pd.read_csv('../data/google-10000-english.txt', header=None, names=['words'])\n",
    "top_en_words.sample(n=5).head()"
   ]
  },
  {
   "cell_type": "markdown",
   "metadata": {},
   "source": [
    "## Step 2\n",
    "We used the ```Counter``` function from collections to derive a dictionary ```ngram_common_dict``` that contains the counts of all unique 1-grams, bi-grams and tri-grams. This is saved as a .pickle file type in the */data* directory. "
   ]
  },
  {
   "cell_type": "code",
   "execution_count": null,
   "metadata": {},
   "outputs": [],
   "source": [
    "# Source: https://github.com/first20hours/google-10000-english\n",
    "with open('../data/d_common_en_words' + '.pickle', 'rb') as f:\n",
    "        ngram_common_dict = pickle.load(f)\n",
    "ngram_common_dict"
   ]
  },
  {
   "cell_type": "markdown",
   "metadata": {},
   "source": [
    "## Step 3\n",
    "Define functions to calculate the average ngram feature for a given word (domain)"
   ]
  },
  {
   "cell_type": "code",
   "execution_count": null,
   "metadata": {
    "ExecuteTime": {
     "end_time": "2020-07-30T12:09:54.684748Z",
     "start_time": "2020-07-30T12:09:54.667746Z"
    }
   },
   "outputs": [],
   "source": [
    "# ngrams: Implementation according to Schiavoni 2014: \"Phoenix: DGA-based Botnet Tracking and Intelligence\"\n",
    "# http://s2lab.isg.rhul.ac.uk/papers/files/dimva2014.pdf\n",
    "\n",
    "def ngrams(word, n):\n",
    "    '''\n",
    "    Extract n ngrams from each word and return a regular Python list\n",
    "    \n",
    "    Input \n",
    "    word: (string) or a (list) of strings\n",
    "    n: (integer) or a (list) of integers, lenght of ngram\n",
    "\n",
    "    Output: \n",
    "    \n",
    "    '''\n",
    "    \n",
    "    list_ngrams = []\n",
    "    if isinstance(word, list):\n",
    "        for w in word:\n",
    "            if isinstance(n, list):\n",
    "                for curr_n in n:\n",
    "                    ngrams = [w[i:i+curr_n] for i in range(0,len(w)-curr_n+1)]\n",
    "                    list_ngrams.extend(ngrams)\n",
    "            else:\n",
    "                ngrams = [w[i:i+n] for i in range(0,len(w)-n+1)]\n",
    "                list_ngrams.extend(ngrams)\n",
    "    else:\n",
    "        if isinstance(n, list):\n",
    "            for curr_n in n:\n",
    "                ngrams = [word[i:i+curr_n] for i in range(0,len(word)-curr_n+1)]\n",
    "                list_ngrams.extend(ngrams)\n",
    "        else:\n",
    "            ngrams = [word[i:i+n] for i in range(0,len(word)-n+1)]\n",
    "            list_ngrams.extend(ngrams)\n",
    "\n",
    "    return list_ngrams\n",
    "\n",
    "def ngram_feature(word, common_dict, n, ngrams):\n",
    "    '''\n",
    "    Takes (word) as input, splits it into (n) ngrams and then looks up and counts where\n",
    "    these ngrams are found in the (common_dict). Function returns the normalized sum of all \n",
    "    ngrams that were found in the (common_dict). \n",
    "    \n",
    "    For example, ngram_feature('facebook', ngram_common_dict, 2) will return 171.28\n",
    "    \n",
    "    Input \n",
    "    word: (str) or (list) of strings (domain in our case)\n",
    "    common_dict: (dictionary) that contains the count for most common english words\n",
    "    n: (int) or (list) of the ngram length example: 1,2,3\n",
    "    ngrams: a function defined above that breaks up the (word) into (n) ngrams and returns as a list\n",
    "    \n",
    "    Output\n",
    "    feature: (float) a normalized sum of ngram count found in the common_dict\n",
    "    '''\n",
    "\n",
    "    # get a list of matching ngrams from common dict. \n",
    "    list_ngrams = ngrams(word, n)\n",
    "    \n",
    "    count_sum=0\n",
    "    \n",
    "    for ngram in list_ngrams:\n",
    "        if common_dict[ngram]:\n",
    "            count_sum += common_dict[ngram]\n",
    "    try:\n",
    "        feature = count_sum/(len(word)-n+1)\n",
    "    except:\n",
    "        feature = 0\n",
    "    return feature\n",
    "    \n",
    "def average_ngram_feature(list_ngram_feature):\n",
    "    '''\n",
    "    Calculate the average of a list of numbers (int, float, etc)\n",
    "    \n",
    "    Input: (list) of numbers\n",
    "    Output: average of the list \n",
    "    '''\n",
    "    return sum(list_ngram_feature)/len(list_ngram_feature)"
   ]
  },
  {
   "cell_type": "markdown",
   "metadata": {},
   "source": [
    "# Step 4 & 5\n",
    "Run all of the functions defined above to get an average_ngram_feature calculated for each row (domain). Hint: put it all together with an 'apply' to vectorize this operation."
   ]
  },
  {
   "cell_type": "code",
   "execution_count": null,
   "metadata": {
    "ExecuteTime": {
     "end_time": "2020-07-30T12:09:55.934290Z",
     "start_time": "2020-07-30T12:09:55.882069Z"
    }
   },
   "outputs": [],
   "source": [
    "# Add n-gram column to dataframe\n",
    "full_df['ngram'] = # YOUR CODE HERE\n",
    "\n",
    "# check final 2D pandas DataFrame containing all final features and the target vector isDGA\n",
    "full_df.sample(10)"
   ]
  },
  {
   "cell_type": "markdown",
   "metadata": {},
   "source": [
    "## Step 6\n",
    "Save this full dataset as a csv, then drop the **target** column and save that dataframe as a csv as a 'feature' dataset that is ready for modeling. "
   ]
  },
  {
   "cell_type": "code",
   "execution_count": null,
   "metadata": {},
   "outputs": [],
   "source": [
    "full_df.to_csv('../data/dga_features_final_df_domain.csv', index=False)"
   ]
  },
  {
   "cell_type": "code",
   "execution_count": null,
   "metadata": {
    "ExecuteTime": {
     "end_time": "2020-07-30T12:09:56.651382Z",
     "start_time": "2020-07-30T12:09:56.625183Z"
    }
   },
   "outputs": [],
   "source": [
    "# Drop the domain column as we don't need it anymore and then save that version of the data to a csv in the ./data directory\n",
    "\n",
    "df_final = #YOUR CODE HERE\n",
    "\n",
    "df_final.head()\n",
    "df_final.to_csv('../data/dga_features_final_df.csv', index=False)"
   ]
  },
  {
   "cell_type": "markdown",
   "metadata": {},
   "source": [
    "# Breakpoint: Load Features and Labels\n",
    "\n",
    "If you got stuck in Part 1, please simply uncomment the code below and load the feature matrix we prepared for you, so you can move on to Part 2 and train a Decision Tree Classifier."
   ]
  },
  {
   "cell_type": "code",
   "execution_count": null,
   "metadata": {
    "ExecuteTime": {
     "end_time": "2023-08-01T14:26:55.499590Z",
     "start_time": "2023-08-01T14:26:55.481807Z"
    }
   },
   "outputs": [],
   "source": [
    "#df_final = pd.read_csv('../data/our_data_dga_features_final_df.csv')\n",
    "#print(df_final['isDGA'].value_counts())\n",
    "#df_final.sample(5)"
   ]
  },
  {
   "cell_type": "markdown",
   "metadata": {
    "collapsed": true,
    "jupyter": {
     "outputs_hidden": true
    }
   },
   "source": [
    "### Visualizing the Results\n",
    "At this point, we've created a dataset which has many features that can be used for classification.  Using YellowBrick, your final step is to visualize the features to see which will be of value and which will not. \n",
    "\n",
    "First, let's create a Rank2D visualizer to compute the correlations between all the features.  Detailed documentation available here: http://www.scikit-yb.org/en/latest/examples/methods.html#feature-analysis"
   ]
  },
  {
   "cell_type": "code",
   "execution_count": null,
   "metadata": {
    "ExecuteTime": {
     "end_time": "2023-08-01T14:26:56.550239Z",
     "start_time": "2023-08-01T14:26:56.546865Z"
    }
   },
   "outputs": [],
   "source": [
    "feature_names = ['length','digits','entropy','vowel-cons','firstDigitIndex','ngrams']\n",
    "features = df_final[feature_names]\n",
    "target = df_final.isDGA"
   ]
  },
  {
   "cell_type": "code",
   "execution_count": null,
   "metadata": {
    "ExecuteTime": {
     "end_time": "2023-08-01T14:26:57.167886Z",
     "start_time": "2023-08-01T14:26:57.165612Z"
    }
   },
   "outputs": [],
   "source": [
    "# Your code here..."
   ]
  },
  {
   "cell_type": "markdown",
   "metadata": {},
   "source": [
    "Now let's use a Seaborn pairplot as well.  This will really show you which features have clear dividing lines between the classes.  Docs are available here: http://seaborn.pydata.org/generated/seaborn.pairplot.html"
   ]
  },
  {
   "cell_type": "code",
   "execution_count": null,
   "metadata": {
    "ExecuteTime": {
     "end_time": "2023-08-01T14:26:58.049983Z",
     "start_time": "2023-08-01T14:26:58.047885Z"
    }
   },
   "outputs": [],
   "source": [
    "# Your code here... "
   ]
  },
  {
   "cell_type": "markdown",
   "metadata": {},
   "source": [
    "Finally, let's try making a RadViz of the features.  This visualization will help us see whether there is too much noise to make accurate classifications. "
   ]
  },
  {
   "cell_type": "code",
   "execution_count": null,
   "metadata": {
    "ExecuteTime": {
     "end_time": "2023-08-01T14:26:59.846731Z",
     "start_time": "2023-08-01T14:26:59.843311Z"
    }
   },
   "outputs": [],
   "source": [
    "features = df_final[feature_names].values\n",
    "target = df_final.isDGA.values\n",
    "\n",
    "# Your code here ..."
   ]
  },
  {
   "cell_type": "markdown",
   "metadata": {},
   "source": [
    "## Pandas Profiling\n",
    "You've seen how to do all these steps manually. In our final example for data exploration and feature engineering, you will use a new module called Pandas Profiling to explore your data.  This module will generate much of the same information but it is a major time saver in that it will do all these calculations for you in one command.  \n",
    "\n",
    "Basic usage is:\n",
    "\n",
    "```python\n",
    "profile = ProfileReport(df_final, title='Pandas Profiling Report')\n",
    "profile\n",
    "```\n",
    "\n",
    "In the cell below, execute this command and take a look at the report which is generated to see if you can find any insights about the features we've generated.  After looking at all this, do you think these features will be good enough?\n",
    "\n",
    "\n",
    "Documentation is available here: https://pandas-profiling.github.io/pandas-profiling/docs/master/rtd/pages/getting_started.html"
   ]
  },
  {
   "cell_type": "code",
   "execution_count": null,
   "metadata": {
    "ExecuteTime": {
     "end_time": "2023-08-01T14:27:12.915954Z",
     "start_time": "2023-08-01T14:27:02.070886Z"
    }
   },
   "outputs": [],
   "source": [
    "profile = ProfileReport(df_final, title='DGA Feature Profiling Report')\n",
    "profile"
   ]
  },
  {
   "cell_type": "markdown",
   "metadata": {
    "collapsed": true,
    "jupyter": {
     "outputs_hidden": true
    }
   },
   "source": [
    "## Congrats!\n",
    "Congrats!  You've now extracted features from the dataset and are ready to begin creating some supervised models!"
   ]
  }
 ],
 "metadata": {
  "kernelspec": {
   "display_name": "Python 3 (ipykernel)",
   "language": "python",
   "name": "python3"
  },
  "language_info": {
   "codemirror_mode": {
    "name": "ipython",
    "version": 3
   },
   "file_extension": ".py",
   "mimetype": "text/x-python",
   "name": "python",
   "nbconvert_exporter": "python",
   "pygments_lexer": "ipython3",
   "version": "3.11.8"
  },
  "varInspector": {
   "cols": {
    "lenName": 16,
    "lenType": 16,
    "lenVar": 40
   },
   "kernels_config": {
    "python": {
     "delete_cmd_postfix": "",
     "delete_cmd_prefix": "del ",
     "library": "var_list.py",
     "varRefreshCmd": "print(var_dic_list())"
    },
    "r": {
     "delete_cmd_postfix": ") ",
     "delete_cmd_prefix": "rm(",
     "library": "var_list.r",
     "varRefreshCmd": "cat(var_dic_list()) "
    }
   },
   "types_to_exclude": [
    "module",
    "function",
    "builtin_function_or_method",
    "instance",
    "_Feature"
   ],
   "window_display": false
  },
  "widgets": {
   "application/vnd.jupyter.widget-state+json": {
    "state": {},
    "version_major": 2,
    "version_minor": 0
   }
  }
 },
 "nbformat": 4,
 "nbformat_minor": 4
}
