{
 "cells": [
  {
   "cell_type": "markdown",
   "id": "f82d832a",
   "metadata": {},
   "source": [
    "<img src=\"../img/GTK_Logo_Social Icon.jpg\" width=175 align=\"right\" />\n",
    "\n",
    "# Worksheet 10.2 - Exploratory Data Analysis (EDA) With AI - Answers\n",
    "\n",
    "In this brief lab, we're going to try some of the exploratory data analysis and feature engineering techniques we learned using AI.  As with the previous example, you will need an API key from OpenAI for these exercises.\n",
    "\n",
    "We will be using Pandas and Pandas-AI (https://pandas-ai.readthedocs.io/en/latest/) for this lab. \n",
    "\n",
    "First, import the modules."
   ]
  },
  {
   "cell_type": "code",
   "execution_count": 1,
   "id": "a72d60b5",
   "metadata": {
    "ExecuteTime": {
     "end_time": "2023-07-31T03:22:54.823002Z",
     "start_time": "2023-07-31T03:22:54.816139Z"
    }
   },
   "outputs": [
    {
     "ename": "ModuleNotFoundError",
     "evalue": "No module named 'pandasai'",
     "output_type": "error",
     "traceback": [
      "\u001b[0;31m---------------------------------------------------------------------------\u001b[0m",
      "\u001b[0;31mModuleNotFoundError\u001b[0m                       Traceback (most recent call last)",
      "Cell \u001b[0;32mIn[1], line 3\u001b[0m\n\u001b[1;32m      1\u001b[0m \u001b[38;5;28;01mimport\u001b[39;00m \u001b[38;5;21;01mpandas\u001b[39;00m \u001b[38;5;28;01mas\u001b[39;00m \u001b[38;5;21;01mpd\u001b[39;00m\n\u001b[1;32m      2\u001b[0m \u001b[38;5;28;01mimport\u001b[39;00m \u001b[38;5;21;01mmatplotlib\u001b[39;00m\u001b[38;5;21;01m.\u001b[39;00m\u001b[38;5;21;01mpyplot\u001b[39;00m \u001b[38;5;28;01mas\u001b[39;00m \u001b[38;5;21;01mplt\u001b[39;00m\n\u001b[0;32m----> 3\u001b[0m \u001b[38;5;28;01mfrom\u001b[39;00m \u001b[38;5;21;01mpandasai\u001b[39;00m \u001b[38;5;28;01mimport\u001b[39;00m PandasAI\n\u001b[1;32m      4\u001b[0m \u001b[38;5;28;01mfrom\u001b[39;00m \u001b[38;5;21;01mpandasai\u001b[39;00m\u001b[38;5;21;01m.\u001b[39;00m\u001b[38;5;21;01mllm\u001b[39;00m\u001b[38;5;21;01m.\u001b[39;00m\u001b[38;5;21;01mopenai\u001b[39;00m \u001b[38;5;28;01mimport\u001b[39;00m OpenAI\n\u001b[1;32m      5\u001b[0m llm \u001b[38;5;241m=\u001b[39m OpenAI(api_token\u001b[38;5;241m=\u001b[39m\u001b[38;5;124m\"\u001b[39m\u001b[38;5;124m<Your API Key Here\u001b[39m\u001b[38;5;124m\"\u001b[39m)\n",
      "\u001b[0;31mModuleNotFoundError\u001b[0m: No module named 'pandasai'"
     ]
    }
   ],
   "source": [
    "import pandas as pd\n",
    "import matplotlib.pyplot as plt\n",
    "from pandasai import PandasAI\n",
    "from pandasai.llm.openai import OpenAI\n",
    "llm = OpenAI(api_token=\"<Your API Key Here\")\n",
    "pandas_ai = PandasAI(llm)\n",
    "%matplotlib inline  "
   ]
  },
  {
   "cell_type": "markdown",
   "id": "884b4f03",
   "metadata": {},
   "source": [
    "Next, we're going to read in the `dailybots.csv` file which we used in the DataFrame lab."
   ]
  },
  {
   "cell_type": "code",
   "execution_count": null,
   "id": "4d49aa9e",
   "metadata": {
    "ExecuteTime": {
     "end_time": "2023-07-31T01:30:00.678431Z",
     "start_time": "2023-07-31T01:30:00.663254Z"
    }
   },
   "outputs": [],
   "source": [
    "df = pd.read_csv('../data/dailybots.csv')\n",
    "df['date'] = pd.to_datetime(df['date'])\n",
    "print(df.info())"
   ]
  },
  {
   "cell_type": "markdown",
   "id": "c01f4128",
   "metadata": {},
   "source": [
    "#  Part One:  Which Five Bot Families Affected the Government the Most?\n",
    "For part one, use PandasAI to answer the question: Which 5 bot families affected the government the most?\n",
    "\n",
    "The syntax is:\n",
    "\n",
    "```python\n",
    "pandas_ai(<dataframe>, <question>)\n",
    "```\n"
   ]
  },
  {
   "cell_type": "code",
   "execution_count": null,
   "id": "a9c0f057",
   "metadata": {
    "ExecuteTime": {
     "end_time": "2023-07-31T01:32:22.999243Z",
     "start_time": "2023-07-31T01:32:20.043467Z"
    }
   },
   "outputs": [],
   "source": [
    "# Your code here..."
   ]
  },
  {
   "cell_type": "markdown",
   "id": "9cfd90a5",
   "metadata": {
    "ExecuteTime": {
     "end_time": "2023-07-30T17:01:08.172342Z",
     "start_time": "2023-07-30T17:01:01.341199Z"
    }
   },
   "source": [
    "What answer did you get?  Is this correct?  How do you know?\n",
    "\n",
    "You can verify your answer by running:\n",
    "\n",
    "```python\n",
    "print(pandas_ai.last_code_executed)\n",
    "```\n",
    "\n",
    "You can also view the prompt used to generate this data:\n",
    "```python\n",
    "print(pandas_ai.last_prompt)\n",
    "```\n",
    "\n",
    "Give it a try."
   ]
  },
  {
   "cell_type": "code",
   "execution_count": null,
   "id": "7664ecad",
   "metadata": {
    "ExecuteTime": {
     "end_time": "2023-07-31T01:42:22.007579Z",
     "start_time": "2023-07-31T01:42:22.004068Z"
    }
   },
   "outputs": [],
   "source": [
    "# Your code here..."
   ]
  },
  {
   "cell_type": "code",
   "execution_count": null,
   "id": "8f80519b",
   "metadata": {
    "ExecuteTime": {
     "end_time": "2023-07-31T01:42:29.646722Z",
     "start_time": "2023-07-31T01:42:29.643188Z"
    }
   },
   "outputs": [],
   "source": [
    "# Your code here..."
   ]
  },
  {
   "cell_type": "markdown",
   "id": "3e842b8e",
   "metadata": {},
   "source": [
    "## Part Two:  Visualization\n",
    "For this example, create a grouped bar chart which compares the number of hosts and organizations, grouped by bot family.\n",
    "\n",
    "Note:  We're re-reading the CSV file here because the AI didn't seem to be able to figure out how to deal with the datetime column."
   ]
  },
  {
   "cell_type": "code",
   "execution_count": null,
   "id": "4dc5afb8",
   "metadata": {
    "ExecuteTime": {
     "end_time": "2023-07-31T03:35:33.678357Z",
     "start_time": "2023-07-31T03:35:27.627703Z"
    }
   },
   "outputs": [],
   "source": [
    "df = pd.read_csv('../data/dailybots.csv')\n",
    "# Your code here..."
   ]
  },
  {
   "cell_type": "markdown",
   "id": "c8fb4520",
   "metadata": {},
   "source": [
    "## Part Three:  Feature Engineering\n",
    "In this final example we will read in the data from one of the DGA files we used and we're going to extract features from it. "
   ]
  },
  {
   "cell_type": "code",
   "execution_count": null,
   "id": "a1812adf",
   "metadata": {
    "ExecuteTime": {
     "end_time": "2023-07-31T03:39:10.396180Z",
     "start_time": "2023-07-31T03:39:10.389226Z"
    }
   },
   "outputs": [],
   "source": [
    "dga_df = pd.read_csv('../data/dga_data_small.csv')"
   ]
  },
  {
   "cell_type": "code",
   "execution_count": null,
   "id": "b9eb56c7",
   "metadata": {
    "ExecuteTime": {
     "end_time": "2023-07-31T03:39:11.059951Z",
     "start_time": "2023-07-31T03:39:11.023410Z"
    }
   },
   "outputs": [],
   "source": [
    "# Your code here ..."
   ]
  },
  {
   "cell_type": "markdown",
   "id": "e55e1d79",
   "metadata": {},
   "source": [
    "How did it do?  Did it generate any interesting features?"
   ]
  }
 ],
 "metadata": {
  "kernelspec": {
   "display_name": "Python 3 (ipykernel)",
   "language": "python",
   "name": "python3"
  },
  "language_info": {
   "codemirror_mode": {
    "name": "ipython",
    "version": 3
   },
   "file_extension": ".py",
   "mimetype": "text/x-python",
   "name": "python",
   "nbconvert_exporter": "python",
   "pygments_lexer": "ipython3",
   "version": "3.12.2"
  },
  "varInspector": {
   "cols": {
    "lenName": 16,
    "lenType": 16,
    "lenVar": 40
   },
   "kernels_config": {
    "python": {
     "delete_cmd_postfix": "",
     "delete_cmd_prefix": "del ",
     "library": "var_list.py",
     "varRefreshCmd": "print(var_dic_list())"
    },
    "r": {
     "delete_cmd_postfix": ") ",
     "delete_cmd_prefix": "rm(",
     "library": "var_list.r",
     "varRefreshCmd": "cat(var_dic_list()) "
    }
   },
   "types_to_exclude": [
    "module",
    "function",
    "builtin_function_or_method",
    "instance",
    "_Feature"
   ],
   "window_display": false
  },
  "widgets": {
   "application/vnd.jupyter.widget-state+json": {
    "state": {},
    "version_major": 2,
    "version_minor": 0
   }
  }
 },
 "nbformat": 4,
 "nbformat_minor": 5
}
